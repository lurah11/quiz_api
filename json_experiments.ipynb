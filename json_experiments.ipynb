{
 "cells": [
  {
   "cell_type": "code",
   "execution_count": 1,
   "metadata": {},
   "outputs": [],
   "source": [
    "import requests\n",
    "import json "
   ]
  },
  {
   "cell_type": "markdown",
   "metadata": {},
   "source": [
    "#### 1. Get Request To get All List of Questions"
   ]
  },
  {
   "cell_type": "code",
   "execution_count": 2,
   "metadata": {},
   "outputs": [],
   "source": [
    "url = \"http://localhost:8000/quiz/1\"\n",
    "content = requests.get('http://localhost:8000/quiz/1')  #  1 for math , 2 for language ( lesson instance )\n"
   ]
  },
  {
   "cell_type": "code",
   "execution_count": 3,
   "metadata": {},
   "outputs": [
    {
     "name": "stdout",
     "output_type": "stream",
     "text": [
      "{\n",
      " \"id\": 1,\n",
      " \"text\": \"math\",\n",
      " \"question\": [\n",
      "  {\n",
      "   \"id\": 1,\n",
      "   \"text\": \"What is 2 + 2 ?\",\n",
      "   \"choices\": [\n",
      "    {\n",
      "     \"id\": 1,\n",
      "     \"text\": \"4\"\n",
      "    },\n",
      "    {\n",
      "     \"id\": 2,\n",
      "     \"text\": \"5\"\n",
      "    },\n",
      "    {\n",
      "     \"id\": 3,\n",
      "     \"text\": \"6\"\n",
      "    }\n",
      "   ]\n",
      "  },\n",
      "  {\n",
      "   \"id\": 2,\n",
      "   \"text\": \"Which of the followings are true ?\",\n",
      "   \"choices\": [\n",
      "    {\n",
      "     \"id\": 4,\n",
      "     \"text\": \"2 + 2 = 4\"\n",
      "    },\n",
      "    {\n",
      "     \"id\": 5,\n",
      "     \"text\": \"2 x 5 = 10\"\n",
      "    },\n",
      "    {\n",
      "     \"id\": 6,\n",
      "     \"text\": \"2 + 3 = 10\"\n",
      "    }\n",
      "   ]\n",
      "  },\n",
      "  {\n",
      "   \"id\": 3,\n",
      "   \"text\": \"What is 2 x 3 ?\",\n",
      "   \"choices\": [\n",
      "    {\n",
      "     \"id\": 7,\n",
      "     \"text\": \"8\"\n",
      "    },\n",
      "    {\n",
      "     \"id\": 8,\n",
      "     \"text\": \"6\"\n",
      "    },\n",
      "    {\n",
      "     \"id\": 9,\n",
      "     \"text\": \"10\"\n",
      "    }\n",
      "   ]\n",
      "  },\n",
      "  {\n",
      "   \"id\": 4,\n",
      "   \"text\": \"Which of the followings are false ?\",\n",
      "   \"choices\": [\n",
      "    {\n",
      "     \"id\": 10,\n",
      "     \"text\": \"6-4 = 2\"\n",
      "    },\n",
      "    {\n",
      "     \"id\": 11,\n",
      "     \"text\": \"4 x 1 = 4\"\n",
      "    },\n",
      "    {\n",
      "     \"id\": 12,\n",
      "     \"text\": \"4 + 4 = 16\"\n",
      "    }\n",
      "   ]\n",
      "  }\n",
      " ]\n",
      "}\n"
     ]
    }
   ],
   "source": [
    "json_obj = json.loads(content.content)\n",
    "print(json.dumps(json_obj,indent=1))"
   ]
  },
  {
   "cell_type": "markdown",
   "metadata": {},
   "source": [
    "#### 2. Send Valid JSON"
   ]
  },
  {
   "cell_type": "markdown",
   "metadata": {},
   "source": [
    "##### Use this data format when sending to API "
   ]
  },
  {
   "cell_type": "code",
   "execution_count": 4,
   "metadata": {},
   "outputs": [
    {
     "name": "stdout",
     "output_type": "stream",
     "text": [
      "<Response [200]>\n",
      "{'user': 3, 'lesson': 1, 'score': 100.0}\n"
     ]
    }
   ],
   "source": [
    "#1. Scheme 1 : All Questions are answered \n",
    "\n",
    "\n",
    "data_to_send = {\n",
    "    'username' : 'test_2',\n",
    "    'password':'number_two',\n",
    "    'lesson_id':1,\n",
    "    'question_id':[1,2,3,4], # list of integer\n",
    "    'answer_id':[[1],[4,5],[8],[12]]  # list of list of integers \n",
    "}\n",
    "\n",
    "data_json = json.dumps(data_to_send)\n",
    "\n",
    "url = \"http://localhost:8000/quiz/scoring\"\n",
    "headers = {'content-type':'application/json'}\n",
    "\n",
    "\n",
    "send_answer = requests.post(url=url,data=data_json,headers=headers)\n",
    "print(send_answer)\n",
    "print(send_answer.json())"
   ]
  },
  {
   "cell_type": "code",
   "execution_count": 5,
   "metadata": {},
   "outputs": [
    {
     "name": "stdout",
     "output_type": "stream",
     "text": [
      "<Response [200]>\n",
      "{'user': 3, 'lesson': 1, 'score': 25.0}\n"
     ]
    }
   ],
   "source": [
    "#2. Scheme 2 : Some Answers are left blank \n",
    "\n",
    "data_to_send = {\n",
    "    'username' : 'test_2',\n",
    "    'password':'number_two',\n",
    "    'lesson_id':1,\n",
    "    'question_id':[1,2,3,4], # list of integer\n",
    "    'answer_id':[[1],[8]]  # list of list of integers \n",
    "}\n",
    "\n",
    "data_json = json.dumps(data_to_send)\n",
    "\n",
    "url = \"http://localhost:8000/quiz/scoring\"\n",
    "headers = {'content-type':'application/json'}\n",
    "\n",
    "\n",
    "send_answer = requests.post(url=url,data=data_json,headers=headers)\n",
    "print(send_answer)\n",
    "print(send_answer.json())"
   ]
  },
  {
   "cell_type": "markdown",
   "metadata": {},
   "source": [
    "#### 3. SEND INVALID JSON "
   ]
  },
  {
   "cell_type": "code",
   "execution_count": 6,
   "metadata": {},
   "outputs": [
    {
     "name": "stdout",
     "output_type": "stream",
     "text": [
      "<Response [200]>\n",
      "{'non_field_errors': ['Invalid username and or password']}\n"
     ]
    }
   ],
   "source": [
    "#1. Scheme 1 : Invalid authentication\n",
    "\n",
    "data_to_send = {\n",
    "    'username' : 'test_2',\n",
    "    'password':'number_four',\n",
    "    'lesson_id':1,\n",
    "    'question_id':[1,2,3,4], # list of integer\n",
    "    'answer_id':[[1],[8]]  # list of list of integers \n",
    "}\n",
    "\n",
    "data_json = json.dumps(data_to_send)\n",
    "\n",
    "url = \"http://localhost:8000/quiz/scoring\"\n",
    "headers = {'content-type':'application/json'}\n",
    "\n",
    "\n",
    "send_answer = requests.post(url=url,data=data_json,headers=headers)\n",
    "print(send_answer)\n",
    "print(send_answer.json())"
   ]
  },
  {
   "cell_type": "code",
   "execution_count": 7,
   "metadata": {},
   "outputs": [
    {
     "name": "stdout",
     "output_type": "stream",
     "text": [
      "<Response [200]>\n",
      "{'non_field_errors': ['Wrong lesson ID']}\n"
     ]
    }
   ],
   "source": [
    "#2. Scheme 2 : Invalid lesson ID ( currently only 2 lesson id available )\n",
    "\n",
    "data_to_send = {\n",
    "    'username' : 'test_2',\n",
    "    'password':'number_two',\n",
    "    'lesson_id':3,\n",
    "    'question_id':[1,2,3,4], # list of integer\n",
    "    'answer_id':[[1],[8]]  # list of list of integers \n",
    "}\n",
    "\n",
    "data_json = json.dumps(data_to_send)\n",
    "\n",
    "url = \"http://localhost:8000/quiz/scoring\"\n",
    "headers = {'content-type':'application/json'}\n",
    "\n",
    "\n",
    "send_answer = requests.post(url=url,data=data_json,headers=headers)\n",
    "print(send_answer)\n",
    "print(send_answer.json())"
   ]
  },
  {
   "cell_type": "code",
   "execution_count": 8,
   "metadata": {},
   "outputs": [
    {
     "name": "stdout",
     "output_type": "stream",
     "text": [
      "<Response [200]>\n",
      "{'non_field_errors': ['Invalid Question ID, please check your ID and make sure it is exists!']}\n"
     ]
    }
   ],
   "source": [
    "#3. Scheme 3 : Invalid question ID ( question ID number 6 belongs to lesson 2 ( language ) and not math )\n",
    "\n",
    "data_to_send = {\n",
    "    'username' : 'test_2',\n",
    "    'password':'number_two',\n",
    "    'lesson_id':1,\n",
    "    'question_id':[1,2,3,6], # list of integer\n",
    "    'answer_id':[[1],[8]]  # list of list of integers \n",
    "}\n",
    "\n",
    "data_json = json.dumps(data_to_send)\n",
    "\n",
    "url = \"http://localhost:8000/quiz/scoring\"\n",
    "headers = {'content-type':'application/json'}\n",
    "\n",
    "\n",
    "send_answer = requests.post(url=url,data=data_json,headers=headers)\n",
    "print(send_answer)\n",
    "print(send_answer.json())"
   ]
  },
  {
   "cell_type": "code",
   "execution_count": 9,
   "metadata": {},
   "outputs": [
    {
     "name": "stdout",
     "output_type": "stream",
     "text": [
      "<Response [200]>\n",
      "{'answer_id': {'0': ['Expected a list of items but got type \"int\".']}}\n"
     ]
    }
   ],
   "source": [
    "#3. Scheme 4 : Invalid answer (wrong format - one of them is not list )\n",
    "\n",
    "data_to_send = {\n",
    "    'username' : 'test_2',\n",
    "    'password':'number_two',\n",
    "    'lesson_id':1,\n",
    "    'question_id':[1,2,3,6], # list of integer\n",
    "    'answer_id':[1,[4,5],[8],[12]]  # list of list of integers \n",
    "}\n",
    "\n",
    "data_json = json.dumps(data_to_send)\n",
    "\n",
    "url = \"http://localhost:8000/quiz/scoring\"\n",
    "headers = {'content-type':'application/json'}\n",
    "\n",
    "\n",
    "send_answer = requests.post(url=url,data=data_json,headers=headers)\n",
    "print(send_answer)\n",
    "print(send_answer.json())"
   ]
  },
  {
   "cell_type": "code",
   "execution_count": 17,
   "metadata": {},
   "outputs": [
    {
     "name": "stdout",
     "output_type": "stream",
     "text": [
      "{\n",
      " \"no_of_problems\": 8,\n",
      " \"no_of_registered_users\": 7,\n",
      " \"no_of_users_who_submit\": 2,\n",
      " \"no_of_submissions\": 9,\n",
      " \"average_score\": 47.22222222222222\n",
      "}\n"
     ]
    }
   ],
   "source": [
    "url = \"http://localhost:8000/statistics\"\n",
    "resp = requests.get(url)\n",
    "json_object = json.loads(resp.content)\n",
    "print(json.dumps(json_object,indent=1))"
   ]
  },
  {
   "cell_type": "code",
   "execution_count": null,
   "metadata": {},
   "outputs": [],
   "source": []
  }
 ],
 "metadata": {
  "interpreter": {
   "hash": "ac3e2f716515ef792cdc05e07e989e6952a57854b25bc3a8602f1d7420e0ab81"
  },
  "kernelspec": {
   "display_name": "Python 3.9.6 64-bit",
   "language": "python",
   "name": "python3"
  },
  "language_info": {
   "codemirror_mode": {
    "name": "ipython",
    "version": 3
   },
   "file_extension": ".py",
   "mimetype": "text/x-python",
   "name": "python",
   "nbconvert_exporter": "python",
   "pygments_lexer": "ipython3",
   "version": "3.9.6"
  },
  "orig_nbformat": 4
 },
 "nbformat": 4,
 "nbformat_minor": 2
}
